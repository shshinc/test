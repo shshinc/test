{
  "nbformat": 4,
  "nbformat_minor": 0,
  "metadata": {
    "colab": {
      "provenance": [],
      "authorship_tag": "ABX9TyMwuj7YeItIUvj/GcJ7MI9L",
      "include_colab_link": true
    },
    "kernelspec": {
      "name": "python3",
      "display_name": "Python 3"
    },
    "language_info": {
      "name": "python"
    }
  },
  "cells": [
    {
      "cell_type": "markdown",
      "metadata": {
        "id": "view-in-github",
        "colab_type": "text"
      },
      "source": [
        "<a href=\"https://colab.research.google.com/github/shshinc/test/blob/mtest/Untitled2.ipynb\" target=\"_parent\"><img src=\"https://colab.research.google.com/assets/colab-badge.svg\" alt=\"Open In Colab\"/></a>"
      ]
    },
    {
      "cell_type": "code",
      "execution_count": 1,
      "metadata": {
        "colab": {
          "base_uri": "https://localhost:8080/"
        },
        "id": "c-TWyexLgx4B",
        "outputId": "16e6c5fb-9558-4bab-adba-6e854f911031"
      },
      "outputs": [
        {
          "output_type": "stream",
          "name": "stdout",
          "text": [
            "Mounted at /content/drive\n"
          ]
        }
      ],
      "source": [
        "from google.colab import drive\n",
        "drive.mount('/content/drive')"
      ]
    },
    {
      "cell_type": "code",
      "source": [
        "!git clone https://github.com/shshinc/test.git"
      ],
      "metadata": {
        "id": "2XORS71EiRhi"
      },
      "execution_count": null,
      "outputs": []
    },
    {
      "cell_type": "markdown",
      "source": [
        "qwerweqr"
      ],
      "metadata": {
        "id": "l2s328w5jjf7"
      }
    },
    {
      "cell_type": "markdown",
      "source": [
        "qewrqwer"
      ],
      "metadata": {
        "id": "FB3TvNqsjj4J"
      }
    },
    {
      "cell_type": "markdown",
      "source": [
        "qewrqewrwqerwqer"
      ],
      "metadata": {
        "id": "87O3xskljkEW"
      }
    },
    {
      "cell_type": "markdown",
      "source": [
        "qwerwqer"
      ],
      "metadata": {
        "id": "IOY2pkrkjkaH"
      }
    }
  ]
}